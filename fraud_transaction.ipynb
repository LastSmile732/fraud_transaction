{
 "cells": [
  {
   "cell_type": "code",
   "execution_count": 1,
   "metadata": {},
   "outputs": [],
   "source": [
    "import numpy as np\n",
    "from numpy import argmax\n",
    "import pandas as pd\n",
    "from xgboost import XGBClassifier\n",
    "from sklearn.model_selection import GridSearchCV, train_test_split\n",
    "from sklearn.metrics import accuracy_score\n",
    "from sklearn.preprocessing import LabelEncoder\n",
    "from sklearn.preprocessing import OneHotEncoder\n",
    "from sklearn.metrics import accuracy_score\n",
    "from sklearn.preprocessing import Imputer\n",
    "import matplotlib\n",
    "import matplotlib.pyplot as plt\n",
    "import seaborn as sns\n",
    "from scipy import stats\n",
    "from scipy.stats import norm, skew\n",
    "%matplotlib inline\n",
    "\n",
    "##### Set Constant #####\n",
    "path = '/data/examples/may_the_4_be_with_u/show_me_the_money/'"
   ]
  },
  {
   "cell_type": "code",
   "execution_count": 2,
   "metadata": {},
   "outputs": [],
   "source": [
    "# load training and testing set, 'Fraud' is the field to predict\n",
    "train = pd.read_csv(filepath_or_buffer = path+'train.csv')\n",
    "test = pd.read_csv(filepath_or_buffer = path+'test.csv')\n",
    "# id of the testing set\n",
    "test_id = test.id -1"
   ]
  },
  {
   "cell_type": "code",
   "execution_count": 3,
   "metadata": {},
   "outputs": [
    {
     "data": {
      "text/html": [
       "<div>\n",
       "<table border=\"1\" class=\"dataframe\">\n",
       "  <thead>\n",
       "    <tr style=\"text-align: right;\">\n",
       "      <th></th>\n",
       "      <th>id</th>\n",
       "      <th>step</th>\n",
       "      <th>type</th>\n",
       "      <th>amount</th>\n",
       "      <th>nameOrig</th>\n",
       "      <th>oldbalanceOrg</th>\n",
       "      <th>newbalanceOrig</th>\n",
       "      <th>nameDest</th>\n",
       "      <th>oldbalanceDest</th>\n",
       "      <th>newbalanceDest</th>\n",
       "      <th>Fraud</th>\n",
       "    </tr>\n",
       "  </thead>\n",
       "  <tbody>\n",
       "    <tr>\n",
       "      <th>0</th>\n",
       "      <td>0</td>\n",
       "      <td>323</td>\n",
       "      <td>PAYMENT</td>\n",
       "      <td>9092.69</td>\n",
       "      <td>C749189758</td>\n",
       "      <td>0.0</td>\n",
       "      <td>0.00</td>\n",
       "      <td>M1939669337</td>\n",
       "      <td>0.00</td>\n",
       "      <td>0.00</td>\n",
       "      <td>0.0</td>\n",
       "    </tr>\n",
       "    <tr>\n",
       "      <th>1</th>\n",
       "      <td>1</td>\n",
       "      <td>164</td>\n",
       "      <td>CASH_IN</td>\n",
       "      <td>23468.75</td>\n",
       "      <td>C525009948</td>\n",
       "      <td>0.0</td>\n",
       "      <td>23468.75</td>\n",
       "      <td>C65353523</td>\n",
       "      <td>77300.17</td>\n",
       "      <td>53831.42</td>\n",
       "      <td>0.0</td>\n",
       "    </tr>\n",
       "    <tr>\n",
       "      <th>2</th>\n",
       "      <td>2</td>\n",
       "      <td>228</td>\n",
       "      <td>CASH_OUT</td>\n",
       "      <td>39688.11</td>\n",
       "      <td>C1311063915</td>\n",
       "      <td>0.0</td>\n",
       "      <td>0.00</td>\n",
       "      <td>C1581032686</td>\n",
       "      <td>168913.26</td>\n",
       "      <td>208601.37</td>\n",
       "      <td>0.0</td>\n",
       "    </tr>\n",
       "    <tr>\n",
       "      <th>3</th>\n",
       "      <td>3</td>\n",
       "      <td>229</td>\n",
       "      <td>CASH_OUT</td>\n",
       "      <td>179016.96</td>\n",
       "      <td>C700594269</td>\n",
       "      <td>103485.0</td>\n",
       "      <td>0.00</td>\n",
       "      <td>C90149178</td>\n",
       "      <td>2483034.47</td>\n",
       "      <td>2662051.42</td>\n",
       "      <td>0.0</td>\n",
       "    </tr>\n",
       "    <tr>\n",
       "      <th>4</th>\n",
       "      <td>4</td>\n",
       "      <td>709</td>\n",
       "      <td>CASH_OUT</td>\n",
       "      <td>77155.99</td>\n",
       "      <td>C646560157</td>\n",
       "      <td>143307.0</td>\n",
       "      <td>66151.01</td>\n",
       "      <td>C671337546</td>\n",
       "      <td>21213865.83</td>\n",
       "      <td>21291021.82</td>\n",
       "      <td>0.0</td>\n",
       "    </tr>\n",
       "  </tbody>\n",
       "</table>\n",
       "</div>"
      ],
      "text/plain": [
       "   id  step      type     amount     nameOrig  oldbalanceOrg  newbalanceOrig  \\\n",
       "0   0   323   PAYMENT    9092.69   C749189758            0.0            0.00   \n",
       "1   1   164   CASH_IN   23468.75   C525009948            0.0        23468.75   \n",
       "2   2   228  CASH_OUT   39688.11  C1311063915            0.0            0.00   \n",
       "3   3   229  CASH_OUT  179016.96   C700594269       103485.0            0.00   \n",
       "4   4   709  CASH_OUT   77155.99   C646560157       143307.0        66151.01   \n",
       "\n",
       "      nameDest  oldbalanceDest  newbalanceDest  Fraud  \n",
       "0  M1939669337            0.00            0.00    0.0  \n",
       "1    C65353523        77300.17        53831.42    0.0  \n",
       "2  C1581032686       168913.26       208601.37    0.0  \n",
       "3    C90149178      2483034.47      2662051.42    0.0  \n",
       "4   C671337546     21213865.83     21291021.82    0.0  "
      ]
     },
     "execution_count": 3,
     "metadata": {},
     "output_type": "execute_result"
    }
   ],
   "source": [
    "train.head()"
   ]
  },
  {
   "cell_type": "code",
   "execution_count": 4,
   "metadata": {},
   "outputs": [
    {
     "data": {
      "text/html": [
       "<div>\n",
       "<table border=\"1\" class=\"dataframe\">\n",
       "  <thead>\n",
       "    <tr style=\"text-align: right;\">\n",
       "      <th></th>\n",
       "      <th>id</th>\n",
       "      <th>step</th>\n",
       "      <th>type</th>\n",
       "      <th>amount</th>\n",
       "      <th>nameOrig</th>\n",
       "      <th>oldbalanceOrg</th>\n",
       "      <th>newbalanceOrig</th>\n",
       "      <th>nameDest</th>\n",
       "      <th>oldbalanceDest</th>\n",
       "      <th>newbalanceDest</th>\n",
       "    </tr>\n",
       "  </thead>\n",
       "  <tbody>\n",
       "    <tr>\n",
       "      <th>0</th>\n",
       "      <td>1</td>\n",
       "      <td>329</td>\n",
       "      <td>PAYMENT</td>\n",
       "      <td>41909.68</td>\n",
       "      <td>C1965438439</td>\n",
       "      <td>18391.00</td>\n",
       "      <td>0.00</td>\n",
       "      <td>M296912999</td>\n",
       "      <td>0.00</td>\n",
       "      <td>0.00</td>\n",
       "    </tr>\n",
       "    <tr>\n",
       "      <th>1</th>\n",
       "      <td>2</td>\n",
       "      <td>205</td>\n",
       "      <td>CASH_IN</td>\n",
       "      <td>57645.11</td>\n",
       "      <td>C2061644565</td>\n",
       "      <td>3162376.19</td>\n",
       "      <td>3220021.31</td>\n",
       "      <td>C2046839454</td>\n",
       "      <td>701205.57</td>\n",
       "      <td>643617.16</td>\n",
       "    </tr>\n",
       "    <tr>\n",
       "      <th>2</th>\n",
       "      <td>3</td>\n",
       "      <td>299</td>\n",
       "      <td>PAYMENT</td>\n",
       "      <td>41911.35</td>\n",
       "      <td>C630506216</td>\n",
       "      <td>9218.00</td>\n",
       "      <td>0.00</td>\n",
       "      <td>M1895361660</td>\n",
       "      <td>0.00</td>\n",
       "      <td>0.00</td>\n",
       "    </tr>\n",
       "    <tr>\n",
       "      <th>3</th>\n",
       "      <td>4</td>\n",
       "      <td>165</td>\n",
       "      <td>PAYMENT</td>\n",
       "      <td>10297.71</td>\n",
       "      <td>C1059151844</td>\n",
       "      <td>29739.00</td>\n",
       "      <td>19441.29</td>\n",
       "      <td>M830221248</td>\n",
       "      <td>0.00</td>\n",
       "      <td>0.00</td>\n",
       "    </tr>\n",
       "    <tr>\n",
       "      <th>4</th>\n",
       "      <td>5</td>\n",
       "      <td>346</td>\n",
       "      <td>TRANSFER</td>\n",
       "      <td>143577.58</td>\n",
       "      <td>C1707397780</td>\n",
       "      <td>115.00</td>\n",
       "      <td>0.00</td>\n",
       "      <td>C1234376661</td>\n",
       "      <td>1184548.85</td>\n",
       "      <td>1328126.42</td>\n",
       "    </tr>\n",
       "  </tbody>\n",
       "</table>\n",
       "</div>"
      ],
      "text/plain": [
       "   id  step      type     amount     nameOrig  oldbalanceOrg  newbalanceOrig  \\\n",
       "0   1   329   PAYMENT   41909.68  C1965438439       18391.00            0.00   \n",
       "1   2   205   CASH_IN   57645.11  C2061644565     3162376.19      3220021.31   \n",
       "2   3   299   PAYMENT   41911.35   C630506216        9218.00            0.00   \n",
       "3   4   165   PAYMENT   10297.71  C1059151844       29739.00        19441.29   \n",
       "4   5   346  TRANSFER  143577.58  C1707397780         115.00            0.00   \n",
       "\n",
       "      nameDest  oldbalanceDest  newbalanceDest  \n",
       "0   M296912999            0.00            0.00  \n",
       "1  C2046839454       701205.57       643617.16  \n",
       "2  M1895361660            0.00            0.00  \n",
       "3   M830221248            0.00            0.00  \n",
       "4  C1234376661      1184548.85      1328126.42  "
      ]
     },
     "execution_count": 4,
     "metadata": {},
     "output_type": "execute_result"
    }
   ],
   "source": [
    "test.head()"
   ]
  },
  {
   "cell_type": "code",
   "execution_count": 5,
   "metadata": {},
   "outputs": [
    {
     "data": {
      "text/plain": [
       "{'Fraud'}"
      ]
     },
     "execution_count": 5,
     "metadata": {},
     "output_type": "execute_result"
    }
   ],
   "source": [
    "set(train.columns) - set(test.columns)"
   ]
  },
  {
   "cell_type": "code",
   "execution_count": 6,
   "metadata": {},
   "outputs": [
    {
     "name": "stdout",
     "output_type": "stream",
     "text": [
      "(3817572, 11) (2545047, 10)\n"
     ]
    }
   ],
   "source": [
    "print(train.shape, test.shape)"
   ]
  },
  {
   "cell_type": "code",
   "execution_count": 7,
   "metadata": {},
   "outputs": [],
   "source": [
    "#Save the 'Id' column\n",
    "train_ID = train['id']\n",
    "#test_ID = test['id']\n",
    "y_label = train.Fraud.values\n",
    "#Drop the 'Id'\n",
    "train.drop(\"id\", axis = 1, inplace = True)\n",
    "test.drop(\"id\", axis = 1, inplace = True)"
   ]
  },
  {
   "cell_type": "code",
   "execution_count": 8,
   "metadata": {},
   "outputs": [
    {
     "data": {
      "text/plain": [
       "<matplotlib.axes._subplots.AxesSubplot at 0x7fc11e589978>"
      ]
     },
     "execution_count": 8,
     "metadata": {},
     "output_type": "execute_result"
    },
    {
     "data": {
      "image/png": "[encoded data removed]",
      "text/plain": [
       "<matplotlib.figure.Figure at 0x7fc11e5890b8>"
      ]
     },
     "metadata": {},
     "output_type": "display_data"
    }
   ],
   "source": [
    "corrmat = train.corr()\n",
    "plt.subplots(figsize=(10,8))\n",
    "sns.set(rc={'figure.facecolor' : 'grey'})\n",
    "sns.heatmap(corrmat, vmax=0.9, square=True)"
   ]
  },
  {
   "cell_type": "code",
   "execution_count": 9,
   "metadata": {},
   "outputs": [
    {
     "data": {
      "image/png": "[encoded data removed]",
      "text/plain": [
       "<matplotlib.figure.Figure at 0x7fc11e546748>"
      ]
     },
     "metadata": {},
     "output_type": "display_data"
    }
   ],
   "source": [
    "fig, ax = plt.subplots()\n",
    "ax.scatter(x = train['amount'], y = train['Fraud'])\n",
    "plt.ylabel('Fraud', fontsize=13)\n",
    "plt.xlabel('amount', fontsize=13)\n",
    "plt.show()"
   ]
  },
  {
   "cell_type": "code",
   "execution_count": 8,
   "metadata": {},
   "outputs": [
    {
     "name": "stdout",
     "output_type": "stream",
     "text": [
      "all_data size is : (6362619, 10)\n"
     ]
    }
   ],
   "source": [
    "#y_train = train.Fraud.values\n",
    "# concat training & testing sets\n",
    "all_data = pd.concat((train, test)).reset_index(drop=True)\n",
    "print(\"all_data size is : {}\".format(all_data.shape))"
   ]
  },
  {
   "cell_type": "code",
   "execution_count": 6,
   "metadata": {},
   "outputs": [
    {
     "data": {
      "text/html": [
       "<div>\n",
       "<table border=\"1\" class=\"dataframe\">\n",
       "  <thead>\n",
       "    <tr style=\"text-align: right;\">\n",
       "      <th></th>\n",
       "      <th>Fraud</th>\n",
       "      <th>amount</th>\n",
       "      <th>nameDest</th>\n",
       "      <th>nameOrig</th>\n",
       "      <th>newbalanceDest</th>\n",
       "      <th>newbalanceOrig</th>\n",
       "      <th>oldbalanceDest</th>\n",
       "      <th>oldbalanceOrg</th>\n",
       "      <th>step</th>\n",
       "      <th>type</th>\n",
       "    </tr>\n",
       "  </thead>\n",
       "  <tbody>\n",
       "    <tr>\n",
       "      <th>0</th>\n",
       "      <td>0.0</td>\n",
       "      <td>9092.69</td>\n",
       "      <td>M1939669337</td>\n",
       "      <td>C749189758</td>\n",
       "      <td>0.00</td>\n",
       "      <td>0.00</td>\n",
       "      <td>0.00</td>\n",
       "      <td>0.0</td>\n",
       "      <td>323</td>\n",
       "      <td>PAYMENT</td>\n",
       "    </tr>\n",
       "    <tr>\n",
       "      <th>1</th>\n",
       "      <td>0.0</td>\n",
       "      <td>23468.75</td>\n",
       "      <td>C65353523</td>\n",
       "      <td>C525009948</td>\n",
       "      <td>53831.42</td>\n",
       "      <td>23468.75</td>\n",
       "      <td>77300.17</td>\n",
       "      <td>0.0</td>\n",
       "      <td>164</td>\n",
       "      <td>CASH_IN</td>\n",
       "    </tr>\n",
       "    <tr>\n",
       "      <th>2</th>\n",
       "      <td>0.0</td>\n",
       "      <td>39688.11</td>\n",
       "      <td>C1581032686</td>\n",
       "      <td>C1311063915</td>\n",
       "      <td>208601.37</td>\n",
       "      <td>0.00</td>\n",
       "      <td>168913.26</td>\n",
       "      <td>0.0</td>\n",
       "      <td>228</td>\n",
       "      <td>CASH_OUT</td>\n",
       "    </tr>\n",
       "    <tr>\n",
       "      <th>3</th>\n",
       "      <td>0.0</td>\n",
       "      <td>179016.96</td>\n",
       "      <td>C90149178</td>\n",
       "      <td>C700594269</td>\n",
       "      <td>2662051.42</td>\n",
       "      <td>0.00</td>\n",
       "      <td>2483034.47</td>\n",
       "      <td>103485.0</td>\n",
       "      <td>229</td>\n",
       "      <td>CASH_OUT</td>\n",
       "    </tr>\n",
       "    <tr>\n",
       "      <th>4</th>\n",
       "      <td>0.0</td>\n",
       "      <td>77155.99</td>\n",
       "      <td>C671337546</td>\n",
       "      <td>C646560157</td>\n",
       "      <td>21291021.82</td>\n",
       "      <td>66151.01</td>\n",
       "      <td>21213865.83</td>\n",
       "      <td>143307.0</td>\n",
       "      <td>709</td>\n",
       "      <td>CASH_OUT</td>\n",
       "    </tr>\n",
       "  </tbody>\n",
       "</table>\n",
       "</div>"
      ],
      "text/plain": [
       "   Fraud     amount     nameDest     nameOrig  newbalanceDest  newbalanceOrig  \\\n",
       "0    0.0    9092.69  M1939669337   C749189758            0.00            0.00   \n",
       "1    0.0   23468.75    C65353523   C525009948        53831.42        23468.75   \n",
       "2    0.0   39688.11  C1581032686  C1311063915       208601.37            0.00   \n",
       "3    0.0  179016.96    C90149178   C700594269      2662051.42            0.00   \n",
       "4    0.0   77155.99   C671337546   C646560157     21291021.82        66151.01   \n",
       "\n",
       "   oldbalanceDest  oldbalanceOrg  step      type  \n",
       "0            0.00            0.0   323   PAYMENT  \n",
       "1        77300.17            0.0   164   CASH_IN  \n",
       "2       168913.26            0.0   228  CASH_OUT  \n",
       "3      2483034.47       103485.0   229  CASH_OUT  \n",
       "4     21213865.83       143307.0   709  CASH_OUT  "
      ]
     },
     "execution_count": 6,
     "metadata": {},
     "output_type": "execute_result"
    }
   ],
   "source": [
    "all_data.head()"
   ]
  },
  {
   "cell_type": "code",
   "execution_count": null,
   "metadata": {},
   "outputs": [],
   "source": [
    "print('\\n The types of fraudulent transactions are {}'.format(\\\n",
    "list(train.loc[train.Fraud == 1].type.drop_duplicates().values))) # only 'CASH_OUT' \n",
    "                                                             # & 'TRANSFER'\n",
    "\n",
    "dfFraudTransfer = train.loc[(train.Fraud == 1) & (train.type == 'TRANSFER')]\n",
    "dfFraudCashout = train.loc[(train.Fraud == 1) & (train.type == 'CASH_OUT')]\n",
    "dfFraudCashin = train.loc[(train.Fraud == 1) & (train.type == 'CASH_IN')]\n",
    "dfFraudPay = train.loc[(train.Fraud == 1) & (train.type == 'PAYMENT')]\n",
    "dfFraudDebit = train.loc[(train.Fraud == 1) & (train.type == 'DEBIT')]\n",
    "print ('\\n The number of fraudulent TRANSFERs = {}'.\\\n",
    "       format(len(dfFraudTransfer))) # 4097\n",
    "print ('\\n The number of fraudulent CASH_OUTs = {}'.\\\n",
    "       format(len(dfFraudCashout))) # 4116\n",
    "print ('\\n The number of fraudulent CASH_INs = {}'.\\\n",
    "       format(len(dfFraudCashin))) # 0\n",
    "print ('\\n The number of fraudulent PAYMENTs = {}'.\\\n",
    "       format(len(dfFraudPay))) # 0\n",
    "print ('\\n The number of fraudulent =DEBITs = {}'.\\\n",
    "       format(len(dfFraudDebit))) # 0"
   ]
  },
  {
   "cell_type": "code",
   "execution_count": 10,
   "metadata": {},
   "outputs": [
    {
     "data": {
      "text/html": [
       "<div>\n",
       "<table border=\"1\" class=\"dataframe\">\n",
       "  <thead>\n",
       "    <tr style=\"text-align: right;\">\n",
       "      <th></th>\n",
       "      <th>CASH_IN</th>\n",
       "      <th>CASH_OUT</th>\n",
       "      <th>DEBIT</th>\n",
       "      <th>PAYMENT</th>\n",
       "      <th>TRANSFER</th>\n",
       "    </tr>\n",
       "  </thead>\n",
       "  <tbody>\n",
       "    <tr>\n",
       "      <th>0</th>\n",
       "      <td>0</td>\n",
       "      <td>0</td>\n",
       "      <td>0</td>\n",
       "      <td>1</td>\n",
       "      <td>0</td>\n",
       "    </tr>\n",
       "    <tr>\n",
       "      <th>1</th>\n",
       "      <td>1</td>\n",
       "      <td>0</td>\n",
       "      <td>0</td>\n",
       "      <td>0</td>\n",
       "      <td>0</td>\n",
       "    </tr>\n",
       "    <tr>\n",
       "      <th>2</th>\n",
       "      <td>0</td>\n",
       "      <td>1</td>\n",
       "      <td>0</td>\n",
       "      <td>0</td>\n",
       "      <td>0</td>\n",
       "    </tr>\n",
       "    <tr>\n",
       "      <th>3</th>\n",
       "      <td>0</td>\n",
       "      <td>1</td>\n",
       "      <td>0</td>\n",
       "      <td>0</td>\n",
       "      <td>0</td>\n",
       "    </tr>\n",
       "    <tr>\n",
       "      <th>4</th>\n",
       "      <td>0</td>\n",
       "      <td>1</td>\n",
       "      <td>0</td>\n",
       "      <td>0</td>\n",
       "      <td>0</td>\n",
       "    </tr>\n",
       "  </tbody>\n",
       "</table>\n",
       "</div>"
      ],
      "text/plain": [
       "   CASH_IN  CASH_OUT  DEBIT  PAYMENT  TRANSFER\n",
       "0        0         0      0        1         0\n",
       "1        1         0      0        0         0\n",
       "2        0         1      0        0         0\n",
       "3        0         1      0        0         0\n",
       "4        0         1      0        0         0"
      ]
     },
     "execution_count": 10,
     "metadata": {},
     "output_type": "execute_result"
    }
   ],
   "source": [
    "trans_type = pd.get_dummies(all_data['type'])\n",
    "trans_type.head()"
   ]
  },
  {
   "cell_type": "code",
   "execution_count": 11,
   "metadata": {},
   "outputs": [],
   "source": [
    "all_data = pd.concat([all_data, trans_type], axis=1).fillna(0)"
   ]
  },
  {
   "cell_type": "code",
   "execution_count": null,
   "metadata": {},
   "outputs": [],
   "source": [
    "print('\\nThe number of TRANSFERs where isFlaggedFraud = 0, yet oldBalanceDest = 0 and\\\n",
    " newBalanceDest = 0 => {}'.\\\n",
    "format(len(all_data.loc[(all_data.Fraud == 0) & \\\n",
    "(all_data.oldbalanceDest == 0) & (all_data.newbalanceDest == 0)])))"
   ]
  },
  {
   "cell_type": "code",
   "execution_count": null,
   "metadata": {},
   "outputs": [],
   "source": [
    "amount_mean = train['amount'].mean()\n",
    "print(amount_mean)"
   ]
  },
  {
   "cell_type": "code",
   "execution_count": null,
   "metadata": {},
   "outputs": [],
   "source": [
    "X_od_zero = train.loc[train['oldbalanceDest'] == 0]\n",
    "X_nd_zero = train.loc[train['newbalanceDest'] == 0]"
   ]
  },
  {
   "cell_type": "code",
   "execution_count": null,
   "metadata": {},
   "outputs": [],
   "source": [
    "X_oo_zero = train.loc[train['oldbalanceOrg'] == 0]\n",
    "X_no_zero = train.loc[train['newbalanceOrig'] == 0]"
   ]
  },
  {
   "cell_type": "code",
   "execution_count": null,
   "metadata": {},
   "outputs": [],
   "source": []
  },
  {
   "cell_type": "code",
   "execution_count": null,
   "metadata": {},
   "outputs": [],
   "source": [
    "isFraud = train[(train['Fraud']==1)]\n",
    "isFraud.shape"
   ]
  },
  {
   "cell_type": "code",
   "execution_count": null,
   "metadata": {},
   "outputs": [],
   "source": [
    "testFraud = train[(train['Fraud']==1) & (train['newbalanceOrig']> amount_mean)]\n",
    "testFraud.shape"
   ]
  },
  {
   "cell_type": "code",
   "execution_count": 12,
   "metadata": {},
   "outputs": [],
   "source": [
    "all_data.loc[(all_data['oldbalanceDest'] == 0) & (all_data['newbalanceDest'] == 0) & (all_data['amount'] != 0), \\\n",
    "      ['oldbalanceDest', 'newbalanceDest']] = - 1"
   ]
  },
  {
   "cell_type": "code",
   "execution_count": 13,
   "metadata": {},
   "outputs": [],
   "source": [
    "all_data.loc[(all_data['oldbalanceOrg'] == 0) & (all_data['newbalanceOrig'] == 0) & (all_data['amount'] != 0), \\\n",
    "      ['oldbalanceOrg', 'newbalanceOrig']] = np.nan"
   ]
  },
  {
   "cell_type": "code",
   "execution_count": null,
   "metadata": {},
   "outputs": [],
   "source": [
    "#print(train.shape, test.shape, y_label.shape)"
   ]
  },
  {
   "cell_type": "code",
   "execution_count": 14,
   "metadata": {},
   "outputs": [],
   "source": [
    "all_data['errorBalanceOrig'] = all_data['newbalanceOrig'] + all_data['amount'] - all_data['oldbalanceOrg']\n",
    "all_data['errorBalanceDest'] = all_data['oldbalanceDest'] + all_data['amount'] - all_data['newbalanceDest']"
   ]
  },
  {
   "cell_type": "code",
   "execution_count": 15,
   "metadata": {},
   "outputs": [],
   "source": [
    "all_data.drop('CASH_IN', axis=1, inplace=True)\n",
    "all_data.drop('PAYMENT', axis=1, inplace=True)\n",
    "all_data.drop('DEBIT', axis=1, inplace=True)\n",
    "all_data.drop(['Fraud'], axis=1, inplace=True)"
   ]
  },
  {
   "cell_type": "code",
   "execution_count": 16,
   "metadata": {},
   "outputs": [
    {
     "data": {
      "text/html": [
       "<div>\n",
       "<table border=\"1\" class=\"dataframe\">\n",
       "  <thead>\n",
       "    <tr style=\"text-align: right;\">\n",
       "      <th></th>\n",
       "      <th>amount</th>\n",
       "      <th>nameDest</th>\n",
       "      <th>nameOrig</th>\n",
       "      <th>newbalanceDest</th>\n",
       "      <th>newbalanceOrig</th>\n",
       "      <th>oldbalanceDest</th>\n",
       "      <th>oldbalanceOrg</th>\n",
       "      <th>step</th>\n",
       "      <th>type</th>\n",
       "      <th>CASH_OUT</th>\n",
       "      <th>TRANSFER</th>\n",
       "      <th>errorBalanceOrig</th>\n",
       "      <th>errorBalanceDest</th>\n",
       "    </tr>\n",
       "  </thead>\n",
       "  <tbody>\n",
       "    <tr>\n",
       "      <th>0</th>\n",
       "      <td>9092.69</td>\n",
       "      <td>M1939669337</td>\n",
       "      <td>C749189758</td>\n",
       "      <td>-1.00</td>\n",
       "      <td>-1.00</td>\n",
       "      <td>-1.00</td>\n",
       "      <td>-1.0</td>\n",
       "      <td>323</td>\n",
       "      <td>PAYMENT</td>\n",
       "      <td>0</td>\n",
       "      <td>0</td>\n",
       "      <td>-1.00</td>\n",
       "      <td>9.092690e+03</td>\n",
       "    </tr>\n",
       "    <tr>\n",
       "      <th>1</th>\n",
       "      <td>23468.75</td>\n",
       "      <td>C65353523</td>\n",
       "      <td>C525009948</td>\n",
       "      <td>53831.42</td>\n",
       "      <td>23468.75</td>\n",
       "      <td>77300.17</td>\n",
       "      <td>0.0</td>\n",
       "      <td>164</td>\n",
       "      <td>CASH_IN</td>\n",
       "      <td>0</td>\n",
       "      <td>0</td>\n",
       "      <td>46937.50</td>\n",
       "      <td>4.693750e+04</td>\n",
       "    </tr>\n",
       "    <tr>\n",
       "      <th>2</th>\n",
       "      <td>39688.11</td>\n",
       "      <td>C1581032686</td>\n",
       "      <td>C1311063915</td>\n",
       "      <td>208601.37</td>\n",
       "      <td>-1.00</td>\n",
       "      <td>168913.26</td>\n",
       "      <td>-1.0</td>\n",
       "      <td>228</td>\n",
       "      <td>CASH_OUT</td>\n",
       "      <td>1</td>\n",
       "      <td>0</td>\n",
       "      <td>-1.00</td>\n",
       "      <td>0.000000e+00</td>\n",
       "    </tr>\n",
       "    <tr>\n",
       "      <th>3</th>\n",
       "      <td>179016.96</td>\n",
       "      <td>C90149178</td>\n",
       "      <td>C700594269</td>\n",
       "      <td>2662051.42</td>\n",
       "      <td>0.00</td>\n",
       "      <td>2483034.47</td>\n",
       "      <td>103485.0</td>\n",
       "      <td>229</td>\n",
       "      <td>CASH_OUT</td>\n",
       "      <td>1</td>\n",
       "      <td>0</td>\n",
       "      <td>75531.96</td>\n",
       "      <td>1.000000e-02</td>\n",
       "    </tr>\n",
       "    <tr>\n",
       "      <th>4</th>\n",
       "      <td>77155.99</td>\n",
       "      <td>C671337546</td>\n",
       "      <td>C646560157</td>\n",
       "      <td>21291021.82</td>\n",
       "      <td>66151.01</td>\n",
       "      <td>21213865.83</td>\n",
       "      <td>143307.0</td>\n",
       "      <td>709</td>\n",
       "      <td>CASH_OUT</td>\n",
       "      <td>1</td>\n",
       "      <td>0</td>\n",
       "      <td>0.00</td>\n",
       "      <td>-3.725290e-09</td>\n",
       "    </tr>\n",
       "  </tbody>\n",
       "</table>\n",
       "</div>"
      ],
      "text/plain": [
       "      amount     nameDest     nameOrig  newbalanceDest  newbalanceOrig  \\\n",
       "0    9092.69  M1939669337   C749189758           -1.00           -1.00   \n",
       "1   23468.75    C65353523   C525009948        53831.42        23468.75   \n",
       "2   39688.11  C1581032686  C1311063915       208601.37           -1.00   \n",
       "3  179016.96    C90149178   C700594269      2662051.42            0.00   \n",
       "4   77155.99   C671337546   C646560157     21291021.82        66151.01   \n",
       "\n",
       "   oldbalanceDest  oldbalanceOrg  step      type  CASH_OUT  TRANSFER  \\\n",
       "0           -1.00           -1.0   323   PAYMENT         0         0   \n",
       "1        77300.17            0.0   164   CASH_IN         0         0   \n",
       "2       168913.26           -1.0   228  CASH_OUT         1         0   \n",
       "3      2483034.47       103485.0   229  CASH_OUT         1         0   \n",
       "4     21213865.83       143307.0   709  CASH_OUT         1         0   \n",
       "\n",
       "   errorBalanceOrig  errorBalanceDest  \n",
       "0             -1.00      9.092690e+03  \n",
       "1          46937.50      4.693750e+04  \n",
       "2             -1.00      0.000000e+00  \n",
       "3          75531.96      1.000000e-02  \n",
       "4              0.00     -3.725290e-09  "
      ]
     },
     "execution_count": 16,
     "metadata": {},
     "output_type": "execute_result"
    }
   ],
   "source": [
    "all_data = all_data.fillna(-1)\n",
    "all_data.head()"
   ]
  },
  {
   "cell_type": "code",
   "execution_count": 15,
   "metadata": {},
   "outputs": [
    {
     "data": {
      "text/plain": [
       "amount              30.993940\n",
       "errorBalanceOrig    20.044599\n",
       "oldbalanceDest      19.921750\n",
       "newbalanceDest      19.352295\n",
       "oldbalanceOrg        5.249140\n",
       "newbalanceOrig       5.176888\n",
       "TRANSFER             3.005133\n",
       "CASH_OUT             0.621319\n",
       "step                 0.375177\n",
       "errorBalanceDest   -49.202264\n",
       "dtype: float64"
      ]
     },
     "execution_count": 15,
     "metadata": {},
     "output_type": "execute_result"
    }
   ],
   "source": [
    "numeric_feats = all_data.dtypes[all_data.dtypes != \"object\"].index\n",
    "\n",
    "skewed_feats = all_data[numeric_feats].apply(lambda x: skew(x.dropna())).sort_values(ascending=False)\n",
    "skewed_feats.head(20)"
   ]
  },
  {
   "cell_type": "code",
   "execution_count": null,
   "metadata": {},
   "outputs": [],
   "source": [
    "sns.distplot(all_data['amount'], fit=norm);\n",
    "fig = plt.figure()\n",
    "res = stats.probplot(all_data['amount'], plot=plt)"
   ]
  },
  {
   "cell_type": "code",
   "execution_count": null,
   "metadata": {},
   "outputs": [],
   "source": []
  },
  {
   "cell_type": "code",
   "execution_count": null,
   "metadata": {},
   "outputs": [],
   "source": []
  },
  {
   "cell_type": "code",
   "execution_count": 17,
   "metadata": {},
   "outputs": [],
   "source": [
    "train = all_data[:train.shape[0]]\n",
    "test = all_data[train.shape[0]:]"
   ]
  },
  {
   "cell_type": "code",
   "execution_count": 18,
   "metadata": {},
   "outputs": [
    {
     "name": "stdout",
     "output_type": "stream",
     "text": [
      "(3817572, 13) (2545047, 13)\n"
     ]
    }
   ],
   "source": [
    "print(train.shape, test.shape)"
   ]
  },
  {
   "cell_type": "code",
   "execution_count": 19,
   "metadata": {},
   "outputs": [
    {
     "name": "stdout",
     "output_type": "stream",
     "text": [
      "Index(['amount', 'newbalanceDest', 'newbalanceOrig', 'oldbalanceDest',\n",
      "       'oldbalanceOrg', 'step', 'CASH_OUT', 'TRANSFER', 'errorBalanceOrig',\n",
      "       'errorBalanceDest'],\n",
      "      dtype='object')\n"
     ]
    }
   ],
   "source": [
    "numeric_feats = train.dtypes[train.dtypes != \"object\"].index\n",
    "print(numeric_feats)"
   ]
  },
  {
   "cell_type": "code",
   "execution_count": 20,
   "metadata": {},
   "outputs": [
    {
     "name": "stdout",
     "output_type": "stream",
     "text": [
      "Index(['amount', 'newbalanceDest', 'newbalanceOrig', 'oldbalanceDest',\n",
      "       'oldbalanceOrg', 'step', 'CASH_OUT', 'TRANSFER', 'errorBalanceOrig',\n",
      "       'errorBalanceDest'],\n",
      "      dtype='object')\n"
     ]
    }
   ],
   "source": [
    "numeric_feats_test = test.dtypes[test.dtypes != \"object\"].index\n",
    "print(numeric_feats_test)"
   ]
  },
  {
   "cell_type": "code",
   "execution_count": 21,
   "metadata": {},
   "outputs": [],
   "source": [
    "num_train = train[numeric_feats]\n",
    "#num_train = num_train.drop('Fraud', axis=1)\n",
    "num_test = test[numeric_feats_test]"
   ]
  },
  {
   "cell_type": "code",
   "execution_count": 22,
   "metadata": {},
   "outputs": [
    {
     "data": {
      "text/plain": [
       "set()"
      ]
     },
     "execution_count": 22,
     "metadata": {},
     "output_type": "execute_result"
    }
   ],
   "source": [
    "set(num_train.columns) - set(num_test.columns)"
   ]
  },
  {
   "cell_type": "code",
   "execution_count": null,
   "metadata": {},
   "outputs": [],
   "source": []
  },
  {
   "cell_type": "code",
   "execution_count": 23,
   "metadata": {},
   "outputs": [],
   "source": [
    "X_train, X_test, Y_train, Y_test = train_test_split(num_train, y_label, test_size=0.2, random_state=0)"
   ]
  },
  {
   "cell_type": "code",
   "execution_count": 152,
   "metadata": {},
   "outputs": [],
   "source": [
    "model = XGBClassifier(\n",
    "    colsample_bytree= 1,\n",
    "    learning_rate= 0.07,\n",
    "    max_depth= 15,\n",
    "    min_child_weight= 16,\n",
    "    n_estimators= 1000,\n",
    "    nthread= 4,\n",
    "    objective= 'binary:logistic',\n",
    "    seed= 1337,\n",
    "    silent= True,\n",
    "    subsample= 1)"
   ]
  },
  {
   "cell_type": "code",
   "execution_count": 153,
   "metadata": {},
   "outputs": [
    {
     "name": "stdout",
     "output_type": "stream",
     "text": [
      "[0]\tvalidation_0-auc:0.918291\n",
      "Will train until validation_0-auc hasn't improved in 10 rounds.\n",
      "[1]\tvalidation_0-auc:0.918369\n",
      "[2]\tvalidation_0-auc:0.918695\n",
      "[3]\tvalidation_0-auc:0.921476\n",
      "[4]\tvalidation_0-auc:0.985922\n",
      "[5]\tvalidation_0-auc:0.985873\n",
      "[6]\tvalidation_0-auc:0.986123\n",
      "[7]\tvalidation_0-auc:0.986128\n",
      "[8]\tvalidation_0-auc:0.986122\n",
      "[9]\tvalidation_0-auc:0.986121\n",
      "[10]\tvalidation_0-auc:0.986198\n",
      "[11]\tvalidation_0-auc:0.986371\n",
      "[12]\tvalidation_0-auc:0.991695\n",
      "[13]\tvalidation_0-auc:0.992282\n",
      "[14]\tvalidation_0-auc:0.992282\n",
      "[15]\tvalidation_0-auc:0.992497\n",
      "[16]\tvalidation_0-auc:0.992778\n",
      "[17]\tvalidation_0-auc:0.999087\n",
      "[18]\tvalidation_0-auc:0.999087\n",
      "[19]\tvalidation_0-auc:0.999088\n",
      "[20]\tvalidation_0-auc:0.999088\n",
      "[21]\tvalidation_0-auc:0.999089\n",
      "[22]\tvalidation_0-auc:0.999087\n",
      "[23]\tvalidation_0-auc:0.999088\n",
      "[24]\tvalidation_0-auc:0.999086\n",
      "[25]\tvalidation_0-auc:0.999086\n",
      "[26]\tvalidation_0-auc:0.999086\n",
      "[27]\tvalidation_0-auc:0.999086\n",
      "[28]\tvalidation_0-auc:0.999087\n",
      "[29]\tvalidation_0-auc:0.999238\n",
      "[30]\tvalidation_0-auc:0.99924\n",
      "[31]\tvalidation_0-auc:0.9993\n",
      "[32]\tvalidation_0-auc:0.999307\n",
      "[33]\tvalidation_0-auc:0.999317\n",
      "[34]\tvalidation_0-auc:0.999323\n",
      "[35]\tvalidation_0-auc:0.999445\n",
      "[36]\tvalidation_0-auc:0.999513\n",
      "[37]\tvalidation_0-auc:0.999652\n",
      "[38]\tvalidation_0-auc:0.999511\n",
      "[39]\tvalidation_0-auc:0.999513\n",
      "[40]\tvalidation_0-auc:0.999513\n",
      "[41]\tvalidation_0-auc:0.999531\n",
      "[42]\tvalidation_0-auc:0.999531\n",
      "[43]\tvalidation_0-auc:0.999531\n",
      "[44]\tvalidation_0-auc:0.999534\n",
      "[45]\tvalidation_0-auc:0.999534\n",
      "[46]\tvalidation_0-auc:0.999655\n",
      "[47]\tvalidation_0-auc:0.999666\n",
      "[48]\tvalidation_0-auc:0.999669\n",
      "[49]\tvalidation_0-auc:0.999671\n",
      "[50]\tvalidation_0-auc:0.999673\n",
      "[51]\tvalidation_0-auc:0.999673\n",
      "[52]\tvalidation_0-auc:0.999673\n",
      "[53]\tvalidation_0-auc:0.999676\n",
      "[54]\tvalidation_0-auc:0.99968\n",
      "[55]\tvalidation_0-auc:0.99968\n",
      "[56]\tvalidation_0-auc:0.999705\n",
      "[57]\tvalidation_0-auc:0.999781\n",
      "[58]\tvalidation_0-auc:0.999783\n",
      "[59]\tvalidation_0-auc:0.999783\n",
      "[60]\tvalidation_0-auc:0.999785\n",
      "[61]\tvalidation_0-auc:0.999786\n",
      "[62]\tvalidation_0-auc:0.999786\n",
      "[63]\tvalidation_0-auc:0.999785\n",
      "[64]\tvalidation_0-auc:0.999912\n",
      "[65]\tvalidation_0-auc:0.999918\n",
      "[66]\tvalidation_0-auc:0.999919\n",
      "[67]\tvalidation_0-auc:0.999783\n",
      "[68]\tvalidation_0-auc:0.999783\n",
      "[69]\tvalidation_0-auc:0.999793\n",
      "[70]\tvalidation_0-auc:0.999915\n",
      "[71]\tvalidation_0-auc:0.999917\n",
      "[72]\tvalidation_0-auc:0.999982\n",
      "[73]\tvalidation_0-auc:0.999982\n",
      "[74]\tvalidation_0-auc:0.999982\n",
      "[75]\tvalidation_0-auc:0.999976\n",
      "[76]\tvalidation_0-auc:0.999976\n",
      "[77]\tvalidation_0-auc:0.999979\n",
      "[78]\tvalidation_0-auc:0.999978\n",
      "[79]\tvalidation_0-auc:0.999977\n",
      "[80]\tvalidation_0-auc:0.999976\n",
      "[81]\tvalidation_0-auc:0.999974\n",
      "[82]\tvalidation_0-auc:0.999968\n",
      "Stopping. Best iteration:\n",
      "[72]\tvalidation_0-auc:0.999982\n",
      "\n"
     ]
    },
    {
     "data": {
      "text/plain": [
       "XGBClassifier(base_score=0.5, booster='gbtree', colsample_bylevel=1,\n",
       "       colsample_bytree=1, gamma=0, learning_rate=0.075, max_delta_step=0,\n",
       "       max_depth=15, min_child_weight=16, missing=None, n_estimators=1000,\n",
       "       n_jobs=1, nthread=4, objective='binary:logistic', random_state=0,\n",
       "       reg_alpha=0, reg_lambda=1, scale_pos_weight=1, seed=1337,\n",
       "       silent=True, subsample=1)"
      ]
     },
     "execution_count": 153,
     "metadata": {},
     "output_type": "execute_result"
    }
   ],
   "source": [
    "model.fit(X_train, Y_train, early_stopping_rounds=10, eval_metric=\"auc\", eval_set=[(X_test, Y_test)],\n",
    "         verbose=True)"
   ]
  },
  {
   "cell_type": "code",
   "execution_count": 154,
   "metadata": {},
   "outputs": [],
   "source": [
    "predict = model.predict_proba(num_test)"
   ]
  },
  {
   "cell_type": "code",
   "execution_count": 155,
   "metadata": {},
   "outputs": [
    {
     "name": "stdout",
     "output_type": "stream",
     "text": [
      "[ 0.00096655  0.00096626  0.00096655 ...,  0.00098185  0.00097931\n",
      "  0.00096676]\n"
     ]
    }
   ],
   "source": [
    "print(predict[:,1])"
   ]
  },
  {
   "cell_type": "code",
   "execution_count": 156,
   "metadata": {},
   "outputs": [
    {
     "data": {
      "text/plain": [
       "0    0\n",
       "1    1\n",
       "2    2\n",
       "3    3\n",
       "4    4\n",
       "Name: id, dtype: int64"
      ]
     },
     "execution_count": 156,
     "metadata": {},
     "output_type": "execute_result"
    }
   ],
   "source": [
    "test_id.head()"
   ]
  },
  {
   "cell_type": "code",
   "execution_count": 157,
   "metadata": {},
   "outputs": [],
   "source": [
    "df = pd.DataFrame( {\"Id\": test_id, \"Fraud\": pd.Series(predict[:,1])} )\n",
    "df = df[['Id', 'Fraud']]"
   ]
  },
  {
   "cell_type": "code",
   "execution_count": 159,
   "metadata": {},
   "outputs": [],
   "source": [
    "#df[(df['Fraud']>0.5)].head()\n",
    "df.to_csv('submission.csv', index = False)\n",
    "#df.loc[df['Fraud'] >= 0.5].head()"
   ]
  },
  {
   "cell_type": "code",
   "execution_count": 54,
   "metadata": {},
   "outputs": [],
   "source": [
    "xgb_model = XGBClassifier()\n",
    "parameters = {'nthread':[4], #when use hyperthread, xgboost may become slower\n",
    "              'objective':['binary:logistic'],\n",
    "              'learning_rate': [0.07], #so called `eta` value\n",
    "              'max_depth': [14],\n",
    "              'min_child_weight': [16,17],\n",
    "              'silent': [1],\n",
    "              'subsample': [1],\n",
    "              'colsample_bytree': [1],\n",
    "              'n_estimators': [150], #number of trees, change it to 1000 for better results\n",
    "              'missing':[-999],\n",
    "              'seed': [1337]}"
   ]
  },
  {
   "cell_type": "code",
   "execution_count": null,
   "metadata": {},
   "outputs": [],
   "source": [
    "clf = GridSearchCV(xgb_model, parameters, n_jobs=1, \n",
    "                   cv=5, \n",
    "                   scoring='roc_auc',\n",
    "                   verbose=2, refit=True)\n",
    "clf.fit(X_train, Y_train)"
   ]
  },
  {
   "cell_type": "code",
   "execution_count": 43,
   "metadata": {},
   "outputs": [],
   "source": [
    "best_parameters, score, _ = max(clf.grid_scores_, key=lambda x: x[1])\n",
    "print('Raw AUC score:', score)\n",
    "for param_name in sorted(best_parameters.keys()):\n",
    "    print(\"%s: %r\" % (param_name, best_parameters[param_name]))"
   ]
  },
  {
   "cell_type": "code",
   "execution_count": null,
   "metadata": {},
   "outputs": [],
   "source": [
    "#rForest = RandomForestClassifier(n_estimators=1000, learning_rate=0.05,\n",
    "#                                   max_depth=4, max_features='sqrt',\n",
    "#                                   min_samples_leaf=15, min_samples_split=10, \n",
    "#                                   loss='exponential', random_state =5)"
   ]
  },
  {
   "cell_type": "code",
   "execution_count": null,
   "metadata": {},
   "outputs": [],
   "source": [
    "#score = rmsle_cv(GBoost)\n",
    "#print(\"Gradient Boosting score: {:.4f} ({:.4f})\\n\".format(score.mean(), score.std()))"
   ]
  }
 ],
 "metadata": {
  "kernelspec": {
   "display_name": "Python 3",
   "language": "python",
   "name": "python3"
  },
  "language_info": {
   "codemirror_mode": {
    "name": "ipython",
    "version": 3
   },
   "file_extension": ".py",
   "mimetype": "text/x-python",
   "name": "python",
   "nbconvert_exporter": "python",
   "pygments_lexer": "ipython3",
   "version": "3.6.3"
  }
 },
 "nbformat": 4,
 "nbformat_minor": 2
}
